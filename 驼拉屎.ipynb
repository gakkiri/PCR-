{
  "nbformat": 4,
  "nbformat_minor": 0,
  "metadata": {
    "colab": {
      "name": "驼拉屎.ipynb",
      "provenance": []
    },
    "kernelspec": {
      "name": "python3",
      "display_name": "Python 3"
    }
  },
  "cells": [
    {
      "cell_type": "code",
      "metadata": {
        "id": "VKxZu31X0MVq",
        "colab_type": "code",
        "outputId": "710ea0de-97fc-4c7e-dbab-286f3061b50a",
        "colab": {
          "base_uri": "https://localhost:8080/",
          "height": 102
        }
      },
      "source": [
        "!pip install cplex"
      ],
      "execution_count": 0,
      "outputs": [
        {
          "output_type": "stream",
          "text": [
            "Collecting cplex\n",
            "\u001b[?25l  Downloading https://files.pythonhosted.org/packages/d9/13/3103ddf6a3402cbebac0ecc37d63326238e61d798cfda85afbd409acb22f/cplex-12.10.0.1-cp36-cp36m-manylinux1_x86_64.whl (31.0MB)\n",
            "\u001b[K     |████████████████████████████████| 31.0MB 141kB/s \n",
            "\u001b[?25hInstalling collected packages: cplex\n",
            "Successfully installed cplex-12.10.0.1\n"
          ],
          "name": "stdout"
        }
      ]
    },
    {
      "cell_type": "code",
      "metadata": {
        "id": "wc7iPMIV0OXH",
        "colab_type": "code",
        "colab": {}
      },
      "source": [
        "import cplex\n",
        "import numpy as np"
      ],
      "execution_count": 0,
      "outputs": []
    },
    {
      "cell_type": "code",
      "metadata": {
        "id": "gK3waWYc0VY6",
        "colab_type": "code",
        "colab": {}
      },
      "source": [
        "n = 30 * 3 * 5\n",
        "boss_h = [6000000, 8000000, 15000000, 20000000, 20000000]\n",
        "beat_boss_num = 3\n",
        "\n",
        "\n",
        "y = np.random.normal(loc=350000, scale=100000, size=(30, 3, 5)).flatten()"
      ],
      "execution_count": 0,
      "outputs": []
    },
    {
      "cell_type": "code",
      "metadata": {
        "id": "DQsdAAWJ0aiz",
        "colab_type": "code",
        "outputId": "ebbb249c-a2cb-40eb-92c3-a3a31a99c145",
        "colab": {
          "base_uri": "https://localhost:8080/",
          "height": 34
        }
      },
      "source": [
        "ub = np.ones(n).tolist()\n",
        "lb = np.zeros(n).tolist()\n",
        "ctype = 'I' * n\n",
        "colnames = np.array(['x{}'.format(i) for i in range(1, n + 1)]).reshape(30, 3, 5)\n",
        "\n",
        "obj = -y\n",
        "\n",
        "prob = cplex.Cplex()\n",
        "prob.objective.set_sense(prob.objective.sense.minimize)\n",
        "prob.variables.add(obj=obj,\n",
        "                   lb=lb,\n",
        "                   ub=ub,\n",
        "                   types=ctype,\n",
        "                   names=colnames.flatten().tolist())\n",
        "\n",
        "# st.1\n",
        "# 一刀只能被出在一个BOSS身上\n",
        "rows = []\n",
        "for i in range(30):\n",
        "    for j in range(3):\n",
        "        const = [colnames[i, j].tolist()]\n",
        "        const.append(np.ones(5).tolist())\n",
        "        rows.append(const)\n",
        "prob.linear_constraints.add(lin_expr=rows,\n",
        "                            rhs=np.ones(len(rows)).tolist(),\n",
        "                            senses='E' * len(rows))\n",
        "\n",
        "# st.2\n",
        "# 每个人刀满3次\n",
        "rows = []\n",
        "for i in range(30):\n",
        "    const = [colnames[i].flatten().tolist()]\n",
        "    const.append(np.ones(len(const[0])).tolist())\n",
        "    rows.append(const)\n",
        "prob.linear_constraints.add(lin_expr=rows,\n",
        "                            rhs=np.full(len(rows), 3).tolist(),\n",
        "                            senses='E' * len(rows))\n",
        "\n",
        "# st.3\n",
        "# 至少刀死beat_boss_num个boss的血量\n",
        "##const = [colnames.flatten().tolist()]\n",
        "##const.append(y.tolist())\n",
        "##rhs = [np.array(boss_h).dot(beat_boss)]\n",
        "##prob.linear_constraints.add(lin_expr=[const],\n",
        "##                            rhs=rhs,\n",
        "##                            senses='G')\n",
        "\n",
        "# st.4\n",
        "# 不能过量刀BOSS, 并且至少刀死前beat_boss_num个boss\n",
        "y = y.reshape(30, 3, 5)\n",
        "rows = []\n",
        "rhs = []\n",
        "senses = ''\n",
        "for i in range(beat_boss_num):\n",
        "    const = [colnames[:, :, i].flatten().tolist()]\n",
        "    const.append(y[:, :, i].flatten().tolist())\n",
        "    rows.append(const)\n",
        "    rhs.append(boss_h[i] + y.max())\n",
        "    senses += 'L'\n",
        "    \n",
        "    rows.append(const)\n",
        "    rhs.append(boss_h[i])\n",
        "    senses += 'G'\n",
        "    \n",
        "prob.linear_constraints.add(lin_expr=rows,\n",
        "                            rhs=rhs,\n",
        "                            senses=senses)"
      ],
      "execution_count": 0,
      "outputs": [
        {
          "output_type": "execute_result",
          "data": {
            "text/plain": [
              "range(120, 126)"
            ]
          },
          "metadata": {
            "tags": []
          },
          "execution_count": 5
        }
      ]
    },
    {
      "cell_type": "code",
      "metadata": {
        "id": "EVXK2epj0cZz",
        "colab_type": "code",
        "outputId": "0ac7f211-697f-4ac4-c61f-5e4184a52089",
        "colab": {
          "base_uri": "https://localhost:8080/",
          "height": 1000
        }
      },
      "source": [
        "prob.solve()\n",
        "p = prob.solution.get_values()\n",
        "p = np.array(p).reshape(30, 3, 5).astype(np.uint8)"
      ],
      "execution_count": 0,
      "outputs": [
        {
          "output_type": "stream",
          "text": [
            "Version identifier: 12.10.0.0 | 2019-11-27 | 843d4de\n",
            "CPXPARAM_Read_DataCheck                          1\n",
            "Tried aggregator 1 time.\n",
            "MIP Presolve eliminated 0 rows and 90 columns.\n",
            "MIP Presolve modified 360 coefficients.\n",
            "Reduced MIP has 96 rows, 360 columns, and 900 nonzeros.\n",
            "Reduced MIP has 360 binaries, 0 generals, 0 SOSs, and 0 indicators.\n",
            "Presolve time = 0.01 sec. (0.88 ticks)\n",
            "Found incumbent of value -3.1564408e+07 after 0.01 sec. (2.70 ticks)\n",
            "Probing time = 0.00 sec. (0.16 ticks)\n",
            "Tried aggregator 1 time.\n",
            "Reduced MIP has 96 rows, 360 columns, and 900 nonzeros.\n",
            "Reduced MIP has 360 binaries, 0 generals, 0 SOSs, and 0 indicators.\n",
            "Presolve time = 0.00 sec. (0.51 ticks)\n",
            "Probing time = 0.00 sec. (0.16 ticks)\n",
            "Clique table members: 90.\n",
            "MIP emphasis: balance optimality and feasibility.\n",
            "MIP search method: dynamic search.\n",
            "Parallel mode: deterministic, using up to 2 threads.\n",
            "Root relaxation solution time = 0.00 sec. (0.25 ticks)\n",
            "\n",
            "        Nodes                                         Cuts/\n",
            "   Node  Left     Objective  IInf  Best Integer    Best Bound    ItCnt     Gap\n",
            "\n",
            "*     0+    0                      -3.15644e+07  -1.33323e+08           322.38%\n",
            "*     0+    0                      -3.58080e+07  -1.33323e+08           272.33%\n",
            "      0     0  -4.17829e+07     6  -3.58080e+07  -4.17829e+07        4   16.69%\n",
            "*     0+    0                      -4.17396e+07  -4.17829e+07             0.10%\n",
            "      0     0  -4.17668e+07     6  -4.17396e+07       Cuts: 8       11    0.07%\n",
            "*     0+    0                      -4.17467e+07  -4.17668e+07             0.05%\n",
            "      0     0  -4.17618e+07     6  -4.17467e+07       Cuts: 3       14    0.04%\n",
            "*     0+    0                      -4.17540e+07  -4.17618e+07             0.02%\n",
            "\n",
            "Repeating presolve.\n",
            "Tried aggregator 2 times.\n",
            "MIP Presolve eliminated 79 rows and 334 columns.\n",
            "MIP Presolve modified 6 coefficients.\n",
            "Aggregator did 10 substitutions.\n",
            "Reduced MIP has 7 rows, 16 columns, and 44 nonzeros.\n",
            "Reduced MIP has 16 binaries, 0 generals, 0 SOSs, and 0 indicators.\n",
            "Presolve time = 0.01 sec. (0.29 ticks)\n",
            "Probing time = 0.00 sec. (0.00 ticks)\n",
            "Tried aggregator 1 time.\n",
            "Reduced MIP has 7 rows, 16 columns, and 44 nonzeros.\n",
            "Reduced MIP has 16 binaries, 0 generals, 0 SOSs, and 0 indicators.\n",
            "Presolve time = 0.00 sec. (0.02 ticks)\n",
            "Represolve time = 0.02 sec. (0.58 ticks)\n",
            "Probing time = 0.00 sec. (0.00 ticks)\n",
            "Clique table members: 1.\n",
            "MIP emphasis: balance optimality and feasibility.\n",
            "MIP search method: dynamic search.\n",
            "Parallel mode: deterministic, using up to 2 threads.\n",
            "Root relaxation solution time = 0.00 sec. (0.04 ticks)\n",
            "\n",
            "        Nodes                                         Cuts/\n",
            "   Node  Left     Objective  IInf  Best Integer    Best Bound    ItCnt     Gap\n",
            "\n",
            "*     0+    0                      -4.17540e+07  -4.17618e+07             0.02%\n",
            "      0     0  -4.17618e+07     4  -4.17540e+07  -4.17618e+07       24    0.02%\n",
            "      0     0  -4.17615e+07     4  -4.17540e+07       Cuts: 2       26    0.02%\n",
            "      0     0        cutoff        -4.17540e+07                     31    0.00%\n",
            "Elapsed time = 0.12 sec. (9.42 ticks, tree = 0.01 MB, solutions = 5)\n",
            "\n",
            "Cover cuts applied:  3\n",
            "Flow cuts applied:  2\n",
            "Mixed integer rounding cuts applied:  1\n",
            "\n",
            "Root node processing (before b&c):\n",
            "  Real time             =    0.12 sec. (9.44 ticks)\n",
            "Parallel b&c, 2 threads:\n",
            "  Real time             =    0.00 sec. (0.00 ticks)\n",
            "  Sync time (average)   =    0.00 sec.\n",
            "  Wait time (average)   =    0.00 sec.\n",
            "                          ------------\n",
            "Total (root+branch&cut) =    0.12 sec. (9.44 ticks)\n"
          ],
          "name": "stdout"
        }
      ]
    },
    {
      "cell_type": "code",
      "metadata": {
        "id": "W7IpmNAQ0he0",
        "colab_type": "code",
        "outputId": "f271e07f-42e6-4f68-c0b9-0dc8debaca61",
        "colab": {
          "base_uri": "https://localhost:8080/",
          "height": 1000
        }
      },
      "source": [
        "# report\n",
        "dmg = (p * y).sum()\n",
        "print('\\n\\n造成的总伤害:', dmg)\n",
        "for i in range(len(boss_h)):\n",
        "    print(f'对{i+1}王造成伤害 [{round((p[:, :, i] * y[:, :, i]).sum(), 2)} / {boss_h[i]}]')\n",
        "\n",
        "print('\\n出刀表:\\n', p)"
      ],
      "execution_count": 0,
      "outputs": [
        {
          "output_type": "stream",
          "text": [
            "\n",
            "\n",
            "造成的总伤害: 41754036.19890935\n",
            "对1王造成伤害 [6473747.51 / 6000000]\n",
            "对2王造成伤害 [8126332.51 / 8000000]\n",
            "对3王造成伤害 [15063813.87 / 15000000]\n",
            "对4王造成伤害 [5628993.81 / 20000000]\n",
            "对5王造成伤害 [6461148.51 / 20000000]\n",
            "\n",
            "出刀表:\n",
            " [[[0 0 0 1 0]\n",
            "  [0 0 1 0 0]\n",
            "  [0 0 1 0 0]]\n",
            "\n",
            " [[1 0 0 0 0]\n",
            "  [0 0 0 0 1]\n",
            "  [1 0 0 0 0]]\n",
            "\n",
            " [[0 1 0 0 0]\n",
            "  [0 1 0 0 0]\n",
            "  [0 0 1 0 0]]\n",
            "\n",
            " [[0 0 1 0 0]\n",
            "  [0 0 1 0 0]\n",
            "  [0 0 0 0 1]]\n",
            "\n",
            " [[0 0 1 0 0]\n",
            "  [0 0 0 1 0]\n",
            "  [0 0 1 0 0]]\n",
            "\n",
            " [[0 1 0 0 0]\n",
            "  [0 1 0 0 0]\n",
            "  [0 0 1 0 0]]\n",
            "\n",
            " [[0 0 1 0 0]\n",
            "  [0 0 0 1 0]\n",
            "  [1 0 0 0 0]]\n",
            "\n",
            " [[1 0 0 0 0]\n",
            "  [0 1 0 0 0]\n",
            "  [0 0 0 1 0]]\n",
            "\n",
            " [[0 0 1 0 0]\n",
            "  [0 0 0 0 1]\n",
            "  [1 0 0 0 0]]\n",
            "\n",
            " [[0 0 1 0 0]\n",
            "  [0 0 0 1 0]\n",
            "  [0 0 1 0 0]]\n",
            "\n",
            " [[0 0 0 1 0]\n",
            "  [0 0 0 0 1]\n",
            "  [0 0 1 0 0]]\n",
            "\n",
            " [[0 0 0 0 1]\n",
            "  [0 0 1 0 0]\n",
            "  [0 0 0 1 0]]\n",
            "\n",
            " [[0 0 1 0 0]\n",
            "  [0 0 0 0 1]\n",
            "  [1 0 0 0 0]]\n",
            "\n",
            " [[0 0 0 0 1]\n",
            "  [0 1 0 0 0]\n",
            "  [0 0 0 1 0]]\n",
            "\n",
            " [[0 1 0 0 0]\n",
            "  [0 0 0 1 0]\n",
            "  [0 1 0 0 0]]\n",
            "\n",
            " [[0 0 1 0 0]\n",
            "  [0 0 0 1 0]\n",
            "  [0 0 1 0 0]]\n",
            "\n",
            " [[1 0 0 0 0]\n",
            "  [0 0 0 0 1]\n",
            "  [0 1 0 0 0]]\n",
            "\n",
            " [[0 1 0 0 0]\n",
            "  [0 0 1 0 0]\n",
            "  [0 0 1 0 0]]\n",
            "\n",
            " [[0 0 1 0 0]\n",
            "  [0 0 0 0 1]\n",
            "  [0 0 1 0 0]]\n",
            "\n",
            " [[0 0 1 0 0]\n",
            "  [0 0 0 0 1]\n",
            "  [0 1 0 0 0]]\n",
            "\n",
            " [[0 1 0 0 0]\n",
            "  [0 0 1 0 0]\n",
            "  [0 1 0 0 0]]\n",
            "\n",
            " [[0 0 0 0 1]\n",
            "  [0 0 0 0 1]\n",
            "  [1 0 0 0 0]]\n",
            "\n",
            " [[0 0 1 0 0]\n",
            "  [0 0 1 0 0]\n",
            "  [0 0 0 1 0]]\n",
            "\n",
            " [[0 1 0 0 0]\n",
            "  [1 0 0 0 0]\n",
            "  [0 0 0 0 1]]\n",
            "\n",
            " [[1 0 0 0 0]\n",
            "  [0 0 0 1 0]\n",
            "  [1 0 0 0 0]]\n",
            "\n",
            " [[0 1 0 0 0]\n",
            "  [0 0 1 0 0]\n",
            "  [0 0 1 0 0]]\n",
            "\n",
            " [[0 1 0 0 0]\n",
            "  [0 1 0 0 0]\n",
            "  [0 0 1 0 0]]\n",
            "\n",
            " [[1 0 0 0 0]\n",
            "  [1 0 0 0 0]\n",
            "  [0 0 0 0 1]]\n",
            "\n",
            " [[0 0 1 0 0]\n",
            "  [0 1 0 0 0]\n",
            "  [0 0 1 0 0]]\n",
            "\n",
            " [[0 0 1 0 0]\n",
            "  [1 0 0 0 0]\n",
            "  [0 0 1 0 0]]]\n"
          ],
          "name": "stdout"
        }
      ]
    },
    {
      "cell_type": "code",
      "metadata": {
        "id": "hLppDo8b0jes",
        "colab_type": "code",
        "colab": {}
      },
      "source": [
        ""
      ],
      "execution_count": 0,
      "outputs": []
    }
  ]
}